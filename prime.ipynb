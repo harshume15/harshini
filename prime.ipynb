{
 "cells": [
  {
   "cell_type": "markdown",
   "id": "459e7780-ccc9-4a60-8e1e-faa5f9eca850",
   "metadata": {},
   "source": [
    "<h1> prime number </h1>"
   ]
  },
  {
   "cell_type": "code",
   "execution_count": 4,
   "id": "d54bb3a1-7c1c-47ba-ac1f-04162fb533af",
   "metadata": {},
   "outputs": [
    {
     "name": "stdin",
     "output_type": "stream",
     "text": [
      "Enter a number:  5\n"
     ]
    },
    {
     "name": "stdout",
     "output_type": "stream",
     "text": [
      "5 is a prime number.\n"
     ]
    }
   ],
   "source": [
    "def is_prime(num):\n",
    "    if num <= 1:\n",
    "        return False\n",
    "    for i in range(2, int(num**0.5) + 1):\n",
    "        if num % i == 0:\n",
    "            return False\n",
    "    return True\n",
    "number = int(input(\"Enter a number: \"))\n",
    "if is_prime(number):\n",
    "    print(number, \"is a prime number.\")\n",
    "else:\n",
    "    print(number, \"is not a prime number.\")"
   ]
  },
  {
   "cell_type": "markdown",
   "id": "a267f298-b10e-4591-afe2-60274a567070",
   "metadata": {},
   "source": [
    "<h1> FIBONNACI SERIES </h1>"
   ]
  },
  {
   "cell_type": "code",
   "execution_count": null,
   "id": "67a3f4f4-d2d5-451b-a171-a98a9e219b32",
   "metadata": {},
   "outputs": [],
   "source": []
  }
 ],
 "metadata": {
  "kernelspec": {
   "display_name": "Python [conda env:base] *",
   "language": "python",
   "name": "conda-base-py"
  },
  "language_info": {
   "codemirror_mode": {
    "name": "ipython",
    "version": 3
   },
   "file_extension": ".py",
   "mimetype": "text/x-python",
   "name": "python",
   "nbconvert_exporter": "python",
   "pygments_lexer": "ipython3",
   "version": "3.12.7"
  }
 },
 "nbformat": 4,
 "nbformat_minor": 5
}
